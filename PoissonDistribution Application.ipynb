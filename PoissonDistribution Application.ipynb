{
 "cells": [
  {
   "cell_type": "markdown",
   "metadata": {},
   "source": [
    "# The Poisson Distribution\n",
    "\n",
    "## Contents\n",
    "\n",
    "1. When to use a Poisson Distribution?\n",
    "2. Underlying Assumptions of the Poission Distribution\n",
    "3. Derivation of the Poisson Distribution\n",
    "4. Alternative Interpretation\n",
    "5. Modelling the Number of Goals Scored in a Football Match\n",
    "\n",
    "## When to use a Poisson Distribution?\n",
    "\n",
    "The Poisson distribution is used in situations in which the underlying random variable can be thought of as the number of events occuring over a given period of time or space. Examples include:\n",
    "\n",
    "1. The number of goals in a football match\n",
    "2. The number of calls to a switch board in an hour\n",
    "3. The number of flaws per metre squared in a given material\n",
    "\n",
    "## Underlying Assumptions of the Poisson Distribution\n",
    "\n",
    "For a random variable to follow a Poisson distribution the following must be true:\n",
    "\n",
    "1. Events occur \"singly\". One after the other. (you can only score one goal in one moment of time in a football match)\n",
    "2. Events are independent of each other\n",
    "3. The mean number of events per interval is proportional to the length of the interval\n",
    "\n",
    "## Derivation of the Poisson Distribution\n",
    "\n",
    "A full derivation of the Poisson Distribution is given below (including mean and variance):"
   ]
  },
  {
   "cell_type": "code",
   "execution_count": 5,
   "metadata": {},
   "outputs": [
    {
     "data": {
      "text/html": [
       " <iframe src=\"Poisson Distribution.pdf\" height=800 width=900></iframe> "
      ],
      "text/plain": [
       "<IPython.core.display.HTML object>"
      ]
     },
     "metadata": {},
     "output_type": "display_data"
    }
   ],
   "source": [
    "%%HTML\n",
    " <iframe src=\"Poisson Distribution.pdf\" height=800 width=900></iframe> "
   ]
  },
  {
   "cell_type": "markdown",
   "metadata": {},
   "source": [
    "## Alternative Explanation\n",
    "\n",
    "A nice informal explanation of the Poisson distribution starts with the Taylor expansion of e.\n",
    "\n",
    "$$e^{\\lambda t} = \\frac{(\\lambda t)^0}{0!} + \\frac{(\\lambda t)^1}{1!} + \\frac{(\\lambda t)^2}{2!} ....$$\n",
    "\n",
    "Division gives:\n",
    "\n",
    "$$1 = \\frac{(\\lambda t)^0}{0!}e^{-\\lambda t} + \\frac{(\\lambda t)^1}{1!}e^{-\\lambda t} + \\frac{(\\lambda t)^2}{2!}e^{-\\lambda t} ....$$\n",
    "\n",
    "We could form a distribution by considering the first term to be P(X=0) and the second P(X=1) etc, these terms are exactly those of the Poisson distribution and they sum to one, implying we have valid distribution!\n",
    "\n",
    "## Modelling the Number of Goals in a Football Match\n",
    "\n",
    "Seems like [this website](http://www.football-data.co.uk/englandm.php) is the place to go for football data.\n",
    "\n",
    "### Downloading the Data:"
   ]
  },
  {
   "cell_type": "code",
   "execution_count": 1,
   "metadata": {},
   "outputs": [
    {
     "name": "stdout",
     "output_type": "stream",
     "text": [
      "--2017-11-20 20:36:37--  http://www.football-data.co.uk/mmz4281/1617/E0.csv\n",
      "Resolving www.football-data.co.uk (www.football-data.co.uk)... 217.160.223.109\n",
      "Connecting to www.football-data.co.uk (www.football-data.co.uk)|217.160.223.109|:80... connected.\n",
      "HTTP request sent, awaiting response... 200 OK\n",
      "Length: 99990 (98K) [text/csv]\n",
      "Saving to: ‘E0.csv.5’\n",
      "\n",
      "E0.csv.5            100%[===================>]  97.65K  --.-KB/s    in 0.05s   \n",
      "\n",
      "2017-11-20 20:36:37 (1.81 MB/s) - ‘E0.csv.5’ saved [99990/99990]\n",
      "\n"
     ]
    }
   ],
   "source": [
    "!wget http://www.football-data.co.uk/mmz4281/1617/E0.csv"
   ]
  },
  {
   "cell_type": "markdown",
   "metadata": {},
   "source": [
    "### Importing into Python:"
   ]
  },
  {
   "cell_type": "code",
   "execution_count": 2,
   "metadata": {},
   "outputs": [
    {
     "data": {
      "text/html": [
       "<div>\n",
       "<style>\n",
       "    .dataframe thead tr:only-child th {\n",
       "        text-align: right;\n",
       "    }\n",
       "\n",
       "    .dataframe thead th {\n",
       "        text-align: left;\n",
       "    }\n",
       "\n",
       "    .dataframe tbody tr th {\n",
       "        vertical-align: top;\n",
       "    }\n",
       "</style>\n",
       "<table border=\"1\" class=\"dataframe\">\n",
       "  <thead>\n",
       "    <tr style=\"text-align: right;\">\n",
       "      <th></th>\n",
       "      <th>Div</th>\n",
       "      <th>Date</th>\n",
       "      <th>HomeTeam</th>\n",
       "      <th>AwayTeam</th>\n",
       "      <th>FTHG</th>\n",
       "      <th>FTAG</th>\n",
       "      <th>FTR</th>\n",
       "      <th>HTHG</th>\n",
       "      <th>HTAG</th>\n",
       "      <th>HTR</th>\n",
       "      <th>...</th>\n",
       "      <th>BbAv&lt;2.5</th>\n",
       "      <th>BbAH</th>\n",
       "      <th>BbAHh</th>\n",
       "      <th>BbMxAHH</th>\n",
       "      <th>BbAvAHH</th>\n",
       "      <th>BbMxAHA</th>\n",
       "      <th>BbAvAHA</th>\n",
       "      <th>PSCH</th>\n",
       "      <th>PSCD</th>\n",
       "      <th>PSCA</th>\n",
       "    </tr>\n",
       "  </thead>\n",
       "  <tbody>\n",
       "    <tr>\n",
       "      <th>0</th>\n",
       "      <td>E0</td>\n",
       "      <td>13/08/16</td>\n",
       "      <td>Burnley</td>\n",
       "      <td>Swansea</td>\n",
       "      <td>0</td>\n",
       "      <td>1</td>\n",
       "      <td>A</td>\n",
       "      <td>0</td>\n",
       "      <td>0</td>\n",
       "      <td>D</td>\n",
       "      <td>...</td>\n",
       "      <td>1.61</td>\n",
       "      <td>32</td>\n",
       "      <td>-0.25</td>\n",
       "      <td>2.13</td>\n",
       "      <td>2.06</td>\n",
       "      <td>1.86</td>\n",
       "      <td>1.81</td>\n",
       "      <td>2.79</td>\n",
       "      <td>3.16</td>\n",
       "      <td>2.89</td>\n",
       "    </tr>\n",
       "    <tr>\n",
       "      <th>1</th>\n",
       "      <td>E0</td>\n",
       "      <td>13/08/16</td>\n",
       "      <td>Crystal Palace</td>\n",
       "      <td>West Brom</td>\n",
       "      <td>0</td>\n",
       "      <td>1</td>\n",
       "      <td>A</td>\n",
       "      <td>0</td>\n",
       "      <td>0</td>\n",
       "      <td>D</td>\n",
       "      <td>...</td>\n",
       "      <td>1.52</td>\n",
       "      <td>33</td>\n",
       "      <td>-0.50</td>\n",
       "      <td>2.07</td>\n",
       "      <td>2.00</td>\n",
       "      <td>1.90</td>\n",
       "      <td>1.85</td>\n",
       "      <td>2.25</td>\n",
       "      <td>3.15</td>\n",
       "      <td>3.86</td>\n",
       "    </tr>\n",
       "    <tr>\n",
       "      <th>2</th>\n",
       "      <td>E0</td>\n",
       "      <td>13/08/16</td>\n",
       "      <td>Everton</td>\n",
       "      <td>Tottenham</td>\n",
       "      <td>1</td>\n",
       "      <td>1</td>\n",
       "      <td>D</td>\n",
       "      <td>1</td>\n",
       "      <td>0</td>\n",
       "      <td>H</td>\n",
       "      <td>...</td>\n",
       "      <td>1.77</td>\n",
       "      <td>32</td>\n",
       "      <td>0.25</td>\n",
       "      <td>1.91</td>\n",
       "      <td>1.85</td>\n",
       "      <td>2.09</td>\n",
       "      <td>2.00</td>\n",
       "      <td>3.64</td>\n",
       "      <td>3.54</td>\n",
       "      <td>2.16</td>\n",
       "    </tr>\n",
       "    <tr>\n",
       "      <th>3</th>\n",
       "      <td>E0</td>\n",
       "      <td>13/08/16</td>\n",
       "      <td>Hull</td>\n",
       "      <td>Leicester</td>\n",
       "      <td>2</td>\n",
       "      <td>1</td>\n",
       "      <td>H</td>\n",
       "      <td>1</td>\n",
       "      <td>0</td>\n",
       "      <td>H</td>\n",
       "      <td>...</td>\n",
       "      <td>1.67</td>\n",
       "      <td>31</td>\n",
       "      <td>0.25</td>\n",
       "      <td>2.35</td>\n",
       "      <td>2.26</td>\n",
       "      <td>2.03</td>\n",
       "      <td>1.67</td>\n",
       "      <td>4.68</td>\n",
       "      <td>3.50</td>\n",
       "      <td>1.92</td>\n",
       "    </tr>\n",
       "    <tr>\n",
       "      <th>4</th>\n",
       "      <td>E0</td>\n",
       "      <td>13/08/16</td>\n",
       "      <td>Man City</td>\n",
       "      <td>Sunderland</td>\n",
       "      <td>2</td>\n",
       "      <td>1</td>\n",
       "      <td>H</td>\n",
       "      <td>1</td>\n",
       "      <td>0</td>\n",
       "      <td>H</td>\n",
       "      <td>...</td>\n",
       "      <td>2.48</td>\n",
       "      <td>34</td>\n",
       "      <td>-1.50</td>\n",
       "      <td>1.81</td>\n",
       "      <td>1.73</td>\n",
       "      <td>2.20</td>\n",
       "      <td>2.14</td>\n",
       "      <td>1.25</td>\n",
       "      <td>6.50</td>\n",
       "      <td>14.50</td>\n",
       "    </tr>\n",
       "  </tbody>\n",
       "</table>\n",
       "<p>5 rows × 65 columns</p>\n",
       "</div>"
      ],
      "text/plain": [
       "  Div      Date        HomeTeam    AwayTeam  FTHG  FTAG FTR  HTHG  HTAG HTR  \\\n",
       "0  E0  13/08/16         Burnley     Swansea     0     1   A     0     0   D   \n",
       "1  E0  13/08/16  Crystal Palace   West Brom     0     1   A     0     0   D   \n",
       "2  E0  13/08/16         Everton   Tottenham     1     1   D     1     0   H   \n",
       "3  E0  13/08/16            Hull   Leicester     2     1   H     1     0   H   \n",
       "4  E0  13/08/16        Man City  Sunderland     2     1   H     1     0   H   \n",
       "\n",
       "   ...   BbAv<2.5  BbAH  BbAHh  BbMxAHH  BbAvAHH  BbMxAHA  BbAvAHA  PSCH  \\\n",
       "0  ...       1.61    32  -0.25     2.13     2.06     1.86     1.81  2.79   \n",
       "1  ...       1.52    33  -0.50     2.07     2.00     1.90     1.85  2.25   \n",
       "2  ...       1.77    32   0.25     1.91     1.85     2.09     2.00  3.64   \n",
       "3  ...       1.67    31   0.25     2.35     2.26     2.03     1.67  4.68   \n",
       "4  ...       2.48    34  -1.50     1.81     1.73     2.20     2.14  1.25   \n",
       "\n",
       "   PSCD   PSCA  \n",
       "0  3.16   2.89  \n",
       "1  3.15   3.86  \n",
       "2  3.54   2.16  \n",
       "3  3.50   1.92  \n",
       "4  6.50  14.50  \n",
       "\n",
       "[5 rows x 65 columns]"
      ]
     },
     "execution_count": 2,
     "metadata": {},
     "output_type": "execute_result"
    }
   ],
   "source": [
    "import pandas as pd\n",
    "df = pd.read_csv('E0.csv')\n",
    "df.head()"
   ]
  },
  {
   "cell_type": "markdown",
   "metadata": {},
   "source": [
    "### Calculating Total Number of Goals and Creating a Histogram"
   ]
  },
  {
   "cell_type": "code",
   "execution_count": 3,
   "metadata": {
    "collapsed": true
   },
   "outputs": [],
   "source": [
    "# adding home goals to away goals to calculate the total\n",
    "\n",
    "df['FTG'] = df['FTHG'] + df['FTAG']\n",
    "\n",
    "# plotting a histogram to show the shape of the distribution\n",
    "\n",
    "maxg = max(df['FTG'])\n",
    "\n",
    "# finding how many time 0,1,   ,max goal where scored\n",
    "\n",
    "goals_act = []\n",
    "\n",
    "for i in range(0,maxg+1):\n",
    "    goals_act.append(sum(df['FTG']==i))\n"
   ]
  },
  {
   "cell_type": "markdown",
   "metadata": {},
   "source": [
    "### Calculating the Theoretical Distribution and Comparing to the Actual"
   ]
  },
  {
   "cell_type": "code",
   "execution_count": 4,
   "metadata": {},
   "outputs": [
    {
     "data": {
      "image/png": "[encoded data removed]",
      "text/plain": [
       "<matplotlib.figure.Figure at 0x7f96bf99f080>"
      ]
     },
     "metadata": {},
     "output_type": "display_data"
    }
   ],
   "source": [
    "# importing packages to calculate the Poisson probabilities\n",
    "\n",
    "from scipy.stats import poisson as poid\n",
    "import numpy as np\n",
    "\n",
    "l = np.mean(df['FTG'])\n",
    "\n",
    "# finding the probability of scoring 0 to 9 goals\n",
    "\n",
    "goals_probs = [poid.pmf(0,l),poid.pmf(1,l),poid.pmf(2,l),poid.pmf(3,l),poid.pmf(4,l),\n",
    "         poid.pmf(5,l),poid.pmf(6,l),poid.pmf(7,l),poid.pmf(8,l),poid.pmf(9,l)]\n",
    "\n",
    "# multiplying by the total number of games to find the probabilities to find the expected values\n",
    "\n",
    "games_total = df.shape[0]\n",
    "\n",
    "goals_exp = [i * games_total for i in goals_probs]\n",
    "\n",
    "# plotting the goals as a bar chart\n",
    "\n",
    "import matplotlib.pyplot as plt\n",
    "\n",
    "fig, ax = plt.subplots()\n",
    "\n",
    "index = np.arange(maxg + 1)\n",
    "bar_width = 0.35\n",
    "\n",
    "rects1 = plt.bar(index, goals_exp, bar_width,\n",
    "                 color='b',\n",
    "                 label='Expected')\n",
    "\n",
    "rects2 = plt.bar(index + bar_width, goals_act, bar_width,\n",
    "                 color='r',\n",
    "                 label='Actual')\n",
    "\n",
    "plt.xlabel('Goals')\n",
    "plt.ylabel('Frequency')\n",
    "plt.title('Expected and Actual Goals Scored')\n",
    "plt.xticks(index + bar_width / 2, ('0', '1', '2', '3', '4','5','6','7','8','9'))\n",
    "plt.legend()\n",
    "\n",
    "plt.tight_layout()\n",
    "plt.show()"
   ]
  },
  {
   "cell_type": "markdown",
   "metadata": {},
   "source": [
    "So the expected values match the actual pretty well, although there is a bit of a mismatch at 4 goals"
   ]
  }
 ],
 "metadata": {
  "kernelspec": {
   "display_name": "Python 3",
   "language": "python",
   "name": "python3"
  },
  "language_info": {
   "codemirror_mode": {
    "name": "ipython",
    "version": 3
   },
   "file_extension": ".py",
   "mimetype": "text/x-python",
   "name": "python",
   "nbconvert_exporter": "python",
   "pygments_lexer": "ipython3",
   "version": "3.6.3"
  }
 },
 "nbformat": 4,
 "nbformat_minor": 2
}
